{
 "cells": [
  {
   "cell_type": "code",
   "execution_count": 3,
   "metadata": {},
   "outputs": [
    {
     "name": "stdout",
     "output_type": "stream",
     "text": [
      "Choices: ('Football', 'Football', 'Football') -> Payoff: (2, 2, 2)\n",
      "Choices: ('Opera', 'Opera', 'Opera') -> Payoff: (1, 1, 1)\n",
      "Nash Equilibria: [('Football', 'Football', 'Football'), ('Opera', 'Opera', 'Opera')]\n"
     ]
    }
   ],
   "source": [
    "class BattleOfSexes3:\n",
    "    def __init__(self):\n",
    "\n",
    "        # 定义action序列\n",
    "        self.actions = ['Football', 'Opera']\n",
    "        # 定义payoff矩阵\n",
    "        # 假设payoff矩阵如下：\n",
    "        # 如果三人都选择看足球比赛，payoff为(2, 2, 2)\n",
    "        # 如果三人都选择看歌剧，payoff为(1, 1, 1)\n",
    "        # 其他情况，payoff为(0, 0, 0)\n",
    "        self.payoff_matrix = {\n",
    "            ('Football', 'Football', 'Football'): (2, 2, 2),\n",
    "            ('Opera', 'Opera', 'Opera'): (1, 1, 1),\n",
    "        }\n",
    "\n",
    "    def print_payoff_matrix(self):\n",
    "        for key, value in self.payoff_matrix.items():\n",
    "            print(f\"Choices: {key} -> Payoff: {value}\")\n",
    "\n",
    "    def find_nash_equilibrium(self):\n",
    "        # 在这个简单的例子中，纳什均衡是三人都选择看足球比赛或三人都选择看歌剧\n",
    "        return [('Football', 'Football', 'Football'), ('Opera', 'Opera', 'Opera')]\n",
    "\n",
    "    def get_payoff(self, choices):\n",
    "        return self.payoff_matrix.get(choices, (0, 0, 0))\n",
    "    \n",
    "    def get_actions(self):\n",
    "        return self.actions\n",
    "\n",
    "# 使用\n",
    "game = BattleOfSexes3()\n",
    "game.print_payoff_matrix()\n",
    "nash_equilibria = game.find_nash_equilibrium()\n",
    "print(f\"Nash Equilibria: {nash_equilibria}\")\n",
    "\n"
   ]
  },
  {
   "cell_type": "code",
   "execution_count": 4,
   "metadata": {},
   "outputs": [],
   "source": [
    "import random\n",
    "\n",
    "class Player:\n",
    "    def __init__(self, name, actions):\n",
    "        self.name = name\n",
    "        self.choices = actions\n",
    "\n",
    "    def make_choice(self):\n",
    "        return random.choice(self.choices)\n",
    "    \n"
   ]
  },
  {
   "cell_type": "code",
   "execution_count": 5,
   "metadata": {},
   "outputs": [
    {
     "name": "stdout",
     "output_type": "stream",
     "text": [
      "{'player_0': {'choice': 'Opera', 'payoff': 0}, 'player_1': {'choice': 'Opera', 'payoff': 0}, 'player_2': {'choice': 'Football', 'payoff': 0}}\n"
     ]
    }
   ],
   "source": [
    "game = BattleOfSexes3()\n",
    "actions = game.get_actions()\n",
    "\n",
    "players = [Player(f'player_'+str(I), actions) for I in range(3)]\n",
    "\n",
    "actions = [player.make_choice() for player in players]\n",
    "payoffs = game.get_payoff(tuple(actions))\n",
    "result = {}\n",
    "for player, action, payoff in zip(players, actions, payoffs):\n",
    "    result[player.name] = {'choice': action, 'payoff': payoff}\n",
    "\n",
    "print(result)"
   ]
  },
  {
   "cell_type": "code",
   "execution_count": 6,
   "metadata": {},
   "outputs": [],
   "source": [
    "import openai\n",
    "import time\n",
    "class LLMPlayer(Player):\n",
    "\n",
    "    def chatgpt_api_simulation(self, prompt, stop=[\"\\n\"]):\n",
    "        # 这是一个模拟的API函数，它返回一个随机选择。\n",
    "        # 在真实的实现中，这里应该是与ChatGPT的真实交互。\n",
    "        i = 2\n",
    "        while True:\n",
    "            try:\n",
    "                time.sleep(1)\n",
    "                completion = openai.ChatCompletion.create(\n",
    "                    model=\"gpt-3.5-turbo\",\n",
    "                    # model=\"gpt-4\",\n",
    "                    messages=[\n",
    "                        {\"role\": \"system\", \"content\": \"You are a player involved in the 'Battle of Sexs' game.\\n\\n\"},\n",
    "                        {\"role\": \"user\", \"content\": prompt},\n",
    "                    ],\n",
    "                    temperature=0.5,\n",
    "                    top_p=0.5,\n",
    "                )\n",
    "            except:\n",
    "                # num_tokens = num_tokens(prompt)\n",
    "\n",
    "                i = i * 2\n",
    "                print(\"Error in LLM, sleep seconds: \", i)\n",
    "                time.sleep(i)\n",
    "                if i > 32:\n",
    "                    return {'content': ''}\n",
    "        return completion.choices[0].message\n",
    "\n",
    "    def make_choice(self):\n",
    "        question = \"Given the payoff matrix, what should I choose?\"\n",
    "        return self.chatgpt_api_simulation(question)\n",
    "    \n",
    "\n",
    "game = BattleOfSexes3()\n",
    "actions = game.get_actions()\n",
    "\n",
    "players = [LLMPlayer(f'player_'+str(I), actions) for I in range(3)]\n",
    "\n",
    "actions = [player.make_choice() for player in players]\n",
    "payoffs = game.get_payoff(tuple(actions))\n",
    "result = {}\n",
    "for player, action, payoff in zip(players, actions, payoffs):\n",
    "    result[player.name] = {'choice': action, 'payoff': payoff}\n",
    "\n",
    "print(result)\n"
   ]
  }
 ],
 "metadata": {
  "kernelspec": {
   "display_name": "base",
   "language": "python",
   "name": "python3"
  },
  "language_info": {
   "codemirror_mode": {
    "name": "ipython",
    "version": 3
   },
   "file_extension": ".py",
   "mimetype": "text/x-python",
   "name": "python",
   "nbconvert_exporter": "python",
   "pygments_lexer": "ipython3",
   "version": "3.9.13"
  },
  "orig_nbformat": 4
 },
 "nbformat": 4,
 "nbformat_minor": 2
}
