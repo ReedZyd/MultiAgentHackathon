{
 "cells": [
  {
   "cell_type": "code",
   "execution_count": null,
   "metadata": {},
   "outputs": [],
   "source": [
    "import openai\n",
    "\n",
    "# 初始化OpenAI API\n",
    "openai.api_key = 'YOUR_OPENAI_API_KEY'\n",
    "\n",
    "def chatgpt_decision(prompt):\n",
    "    \"\"\"使用ChatGPT做决策\"\"\"\n",
    "    response = openai.Completion.create(\n",
    "      model=\"text-davinci-002\",\n",
    "      prompt=prompt,\n",
    "      max_tokens=50\n",
    "    )\n",
    "    return response.choices[0].text.strip()\n",
    "\n",
    "def battle_of_sexes_multiplayer(num_players):\n",
    "    \"\"\"多人版本的Battle of the Sexes游戏\"\"\"\n",
    "    decisions = []\n",
    "    for i in range(num_players):\n",
    "        decision = chatgpt_decision(f\"Player {i+1}, 你想去看歌剧还是棒球比赛？\")\n",
    "        decisions.append(decision)\n",
    "    \n",
    "    opera_count = decisions.count(\"歌剧\")\n",
    "    baseball_count = decisions.count(\"棒球比赛\")\n",
    "    \n",
    "    if opera_count > baseball_count:\n",
    "        return \"大多数玩家选择去看歌剧!\"\n",
    "    elif baseball_count > opera_count:\n",
    "        return \"大多数玩家选择去看棒球比赛!\"\n",
    "    else:\n",
    "        return \"玩家们意见分歧，没有明确的选择!\"\n",
    "\n",
    "# 测试游戏\n",
    "print(battle_of_sexes_multiplayer(3))\n"
   ]
  }
 ],
 "metadata": {
  "language_info": {
   "name": "python"
  },
  "orig_nbformat": 4
 },
 "nbformat": 4,
 "nbformat_minor": 2
}
