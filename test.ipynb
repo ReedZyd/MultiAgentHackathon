{
 "cells": [
  {
   "attachments": {},
   "cell_type": "markdown",
   "metadata": {},
   "source": [
    "# TODO: \n",
    "1. modify scores\n",
    "2. accumulative score for each agent\n",
    "3. action + score history\n",
    "4. repeated game: 全C， 全D # nq = turns * agents 和points有关\n",
    "   1. 先history存下来 再画图\n",
    "   2. turns: 10\n",
    "   3. evaluation: 20\n",
    "   4. agents: 1-5\n",
    "5. single turn: 全D， 全C与repeat game比对\n",
    "6. 最优解\n",
    "7. 要多个"
   ]
  }
 ],
 "metadata": {
  "kernelspec": {
   "display_name": "base",
   "language": "python",
   "name": "python3"
  },
  "language_info": {
   "codemirror_mode": {
    "name": "ipython",
    "version": 3
   },
   "file_extension": ".py",
   "mimetype": "text/x-python",
   "name": "python",
   "nbconvert_exporter": "python",
   "pygments_lexer": "ipython3",
   "version": "3.9.13"
  },
  "orig_nbformat": 4
 },
 "nbformat": 4,
 "nbformat_minor": 2
}
